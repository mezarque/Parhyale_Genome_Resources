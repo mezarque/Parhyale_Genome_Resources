{
 "cells": [
  {
   "cell_type": "code",
   "execution_count": null,
   "metadata": {},
   "outputs": [],
   "source": [
    "import pandas as pd\n",
    "\n",
    "run_bigWigMerge = False"
   ]
  },
  {
   "cell_type": "code",
   "execution_count": null,
   "metadata": {},
   "outputs": [],
   "source": [
    "stages = ['13', '14', '15', '17', '18', '19', '19plus', '20', '21', '22', '23', '24', '25', '26', '27']\n",
    "\n",
    "if run_bigWigMerge:\n",
    "    for stage in stages:\n",
    "        filedummy = 'bigwig/S___A_bothruns_q10.Genrich_sorted.ATAC.q005.final.bw'\n",
    "        a = filedummy.replace('___', stage)\n",
    "        b = a.replace('A_bothruns', 'B_bothruns')\n",
    "        out_bg = a.replace('A_bothruns', 'AB_bothruns').replace('.bw', '.bedgraph')\n",
    "        !./bigWigMerge $a $b $out_bg\n",
    "        out_bw = out_bg.replace('.bedgraph', '.bw')\n",
    "        !./bedGraphToBigWig $out_bg phaw_5.0.chrom.sizes $out_bw"
   ]
  },
  {
   "cell_type": "code",
   "execution_count": 1,
   "metadata": {},
   "outputs": [
    {
     "name": "stdout",
     "output_type": "stream",
     "text": [
      "### computing mRNA refpoint matrix for bigwig/S*AB_bothruns_q10.Genrich_sorted.ATAC.q005.final.bw\n",
      "/bin/sh: computeMatrix: command not found\n",
      "### drawing figure into bigwig/SallAB_bothruns_q10.Genrich_sorted.ATAC.q005.final.12acores_new.mRNA.refpoint.pdf\n",
      "/bin/sh: plotHeatmap: command not found\n",
      "### computing peak refpoint matrix for bigwig/S*AB_bothruns_q10.Genrich_sorted.ATAC.q005.final.bw\n",
      "/bin/sh: computeMatrix: command not found\n",
      "### drawing figure into bigwig/SallAB_bothruns_q10.Genrich_sorted.ATAC.q005.final.12acores_new.peak.refpoint.pdf\n",
      "/bin/sh: plotHeatmap: command not found\n",
      "### computing peak scaled-regions matrix for bigwig/S*AB_bothruns_q10.Genrich_sorted.ATAC.q005.final.bw\n",
      "/bin/sh: computeMatrix: command not found\n",
      "### drawing figure into bigwig/SallAB_bothruns_q10.Genrich_sorted.ATAC.q005.final.12acores_new.peak.scaled.pdf\n",
      "/bin/sh: plotHeatmap: command not found\n"
     ]
    }
   ],
   "source": [
    "acores = 12\n",
    "suffix = 'new'\n",
    "\n",
    "acorespeakbed = 'Mfuzz_' + str(acores) + 'acores_acore*_peaks_' + suffix + '.bed'\n",
    "acoresmRNAbed = 'Mfuzz_' + str(acores) + 'acores_acore*_closest_mRNA_' + suffix + '.bed'\n",
    "\n",
    "filename = 'bigwig/S*AB_bothruns_q10.Genrich_sorted.ATAC.q005.final.bw'\n",
    "\n",
    "#acores\n",
    "refpoint_mRNA_name = filename.replace('.bw', '.' + str(acores) + 'acores_' + suffix + '.mRNA.refpoint.gz').replace('*', 'all')\n",
    "!echo '### computing mRNA refpoint matrix for '$filename\n",
    "!computeMatrix reference-point -S $filename -R $acoresmRNAbed --outFileName $refpoint_mRNA_name -b 400 -a 800 --numberOfProcessors max --skipZeros --missingDataAsZero\n",
    "        \n",
    "refpoint_mRNA_pdf = refpoint_mRNA_name.replace('.gz', '.pdf')\n",
    "!echo '### drawing figure into '$refpoint_mRNA_pdf\n",
    "!plotHeatmap --matrixFile $refpoint_mRNA_name --outFileName $refpoint_mRNA_pdf\n",
    "        \n",
    "refpoint_peak_name = filename.replace('.bw', '.' + str(acores) + 'acores_' + suffix + '.peak.refpoint.gz').replace('*', 'all')\n",
    "!echo '### computing peak refpoint matrix for '$filename\n",
    "!computeMatrix reference-point --referencePoint=center -S $filename -R $acorespeakbed --outFileName $refpoint_peak_name -b 500 -a 500 --numberOfProcessors max --skipZeros --missingDataAsZero\n",
    "        \n",
    "refpoint_peak_pdf = refpoint_peak_name.replace('.gz', '.pdf')\n",
    "!echo '### drawing figure into '$refpoint_peak_pdf\n",
    "!plotHeatmap --matrixFile $refpoint_peak_name --outFileName $refpoint_peak_pdf\n",
    "        \n",
    "scaled_peak_name = filename.replace('.bw', '.' + str(acores) + 'acores_' + suffix + '.peak.scaled.gz').replace('*', 'all')\n",
    "!echo '### computing peak scaled-regions matrix for '$filename\n",
    "!computeMatrix scale-regions -S $filename -R $acorespeakbed --outFileName $scaled_peak_name -b 500 -a 500 --numberOfProcessors max --skipZeros --missingDataAsZero\n",
    "        \n",
    "scaled_peak_pdf = scaled_peak_name.replace('.gz', '.pdf')\n",
    "!echo '### drawing figure into '$scaled_peak_pdf\n",
    "!plotHeatmap --matrixFile $scaled_peak_name --outFileName $scaled_peak_pdf"
   ]
  },
  {
   "cell_type": "code",
   "execution_count": null,
   "metadata": {},
   "outputs": [],
   "source": []
  }
 ],
 "metadata": {
  "kernelspec": {
   "display_name": "Python 3",
   "language": "python",
   "name": "python3"
  },
  "language_info": {
   "codemirror_mode": {
    "name": "ipython",
    "version": 3
   },
   "file_extension": ".py",
   "mimetype": "text/x-python",
   "name": "python",
   "nbconvert_exporter": "python",
   "pygments_lexer": "ipython3",
   "version": "3.7.4"
  }
 },
 "nbformat": 4,
 "nbformat_minor": 2
}
