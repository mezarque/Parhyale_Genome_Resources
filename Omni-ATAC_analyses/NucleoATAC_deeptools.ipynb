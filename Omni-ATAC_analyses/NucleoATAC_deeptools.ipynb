{
 "cells": [
  {
   "cell_type": "markdown",
   "metadata": {},
   "source": [
    "# Initiate arrays"
   ]
  },
  {
   "cell_type": "code",
   "execution_count": null,
   "metadata": {},
   "outputs": [],
   "source": [
    "stage_array = ['13', '14', '15', '17', '18', '19', '25']\n",
    "datatype_array = ['occ', 'nucleoatac_signal', 'nucleoatac_signal.smooth']"
   ]
  },
  {
   "cell_type": "code",
   "execution_count": null,
   "metadata": {},
   "outputs": [],
   "source": [
    "for stage in stage_array:\n",
    "    stagename = stage + 'AB_nucleoatac'\n",
    "    !echo '### Now analyzing sample '$stagename\n",
    "    \n",
    "    for datatype in datatype_array:\n",
    "        filename = 'S' + stagename + '.' + datatype + '.bedgraph.gz'\n",
    "        gunzipped = filename.replace('.gz', '')\n",
    "        !echo '### gunzipping '$filename' into '$gunzipped\n",
    "        !gunzip -c $filename > $gunzipped\n",
    "        \n",
    "        bwname = gunzipped.replace('.bedgraph', '.bw')\n",
    "        !echo '### converting '$gunzipped' into '$bwname\n",
    "        !./bedGraphToBigWig $gunzipped phaw_5.0.chrom.sizes $bwname\n",
    "        \n",
    "        refpoint_name = bwname.replace('.bw', '.refpoint.gz')\n",
    "        !echo '### computing refpoint matrix for '$bwname\n",
    "        !computeMatrix reference-point -S $bwname --regionsFileName phaw_5.0.eggnog.sorted.mRNA.bed --outFileName $refpoint_name -b 400 -a 800 --numberOfProcessors max --skipZeros --missingDataAsZero\n",
    "        \n",
    "        refpoint_pdf = refpoint_name.replace('.gz', '.pdf')\n",
    "        !echo '### drawing figure into '$refpoint_pdf\n",
    "        !plotHeatmap --matrixFile $refpoint_name --outFileName $refpoint_pdf\n",
    "        \n",
    "        scaled_name = bwname.replace('.bw', '.scaled.gz')\n",
    "        !echo '### computing scaled-regions matrix for '$bwname\n",
    "        !computeMatrix scale-regions -S $bwname --regionsFileName phaw_5.0.eggnog.sorted.mRNA.bed --outFileName $scaled_name -b 400 -a 400 --numberOfProcessors max --skipZeros --missingDataAsZero\n",
    "        \n",
    "        scaled_pdf = scaled_name.replace('.gz', '.pdf')\n",
    "        !echo '### drawing figure into '$scaled_pdf\n",
    "        !plotHeatmap --matrixFile $scaled_name --outFileName $scaled_pdf\n",
    "        \n",
    "    !echo '### done analyzing '$stagename\n",
    "\n",
    "!mv *.scaled.pdf NucATAC_pdfs\n",
    "!mv *.refpoint.pdf NucATAC_pdfs"
   ]
  },
  {
   "cell_type": "code",
   "execution_count": null,
   "metadata": {},
   "outputs": [],
   "source": [
    "datagroup_array = ['S*AB_nucleoatac.nucleoatac_signal.bw', 'S*AB_nucleoatac.nucleoatac_signal.smooth.bw', 'S*AB_nucleoatac.occ.bw']\n",
    "\n",
    "for datagroup in datagroup_array:\n",
    "    output = datagroup.replace('*', 'all').replace('.bw', '.refpoint.gz')\n",
    "    !echo '### computing refpoint matrix for '$datagroup\n",
    "    !computeMatrix reference-point -S $datagroup --regionsFileName phaw_5.0.eggnog.sorted.mRNA.bed --outFileName $output -b 400 -a 800 --numberOfProcessors max --skipZeros --missingDataAsZero\n",
    "    \n",
    "    output_pdf = output.replace('.gz', '.pdf')\n",
    "    !echo '### drawing figure into '$output_pdf\n",
    "    !plotHeatmap --matrixFile $output --outFileName $output_pdf"
   ]
  }
 ],
 "metadata": {
  "kernelspec": {
   "display_name": "Python 3",
   "language": "python",
   "name": "python3"
  },
  "language_info": {
   "codemirror_mode": {
    "name": "ipython",
    "version": 3
   },
   "file_extension": ".py",
   "mimetype": "text/x-python",
   "name": "python",
   "nbconvert_exporter": "python",
   "pygments_lexer": "ipython3",
   "version": "3.8.8"
  }
 },
 "nbformat": 4,
 "nbformat_minor": 4
}
