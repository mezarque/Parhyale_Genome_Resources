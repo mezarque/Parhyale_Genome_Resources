{
 "cells": [
  {
   "cell_type": "code",
   "execution_count": null,
   "metadata": {},
   "outputs": [],
   "source": [
    "import pandas as pd\n",
    "\n",
    "acores = 12\n",
    "suffix = 'new'\n",
    "\n",
    "acorespeakbed = 'Mfuzz_' + str(acores) + 'acores_acore*_peaks_' + suffix + '.bed'\n",
    "acoresmRNAbed = 'Mfuzz_' + str(acores) + 'acores_acore*_closest_mRNA_' + suffix + '.bed'\n",
    "\n",
    "run_acores = True"
   ]
  },
  {
   "cell_type": "code",
   "execution_count": 1,
   "metadata": {},
   "outputs": [
    {
     "ename": "NameError",
     "evalue": "name 'run_acores' is not defined",
     "output_type": "error",
     "traceback": [
      "\u001b[0;31m---------------------------------------------------------------------------\u001b[0m",
      "\u001b[0;31mNameError\u001b[0m                                 Traceback (most recent call last)",
      "\u001b[0;32m<ipython-input-1-9606ea5c203a>\u001b[0m in \u001b[0;36m<module>\u001b[0;34m\u001b[0m\n\u001b[1;32m      4\u001b[0m     \u001b[0mfilename\u001b[0m \u001b[0;34m=\u001b[0m \u001b[0;34m'S*AB_nucleoatac'\u001b[0m \u001b[0;34m+\u001b[0m \u001b[0;34m'.'\u001b[0m \u001b[0;34m+\u001b[0m \u001b[0mdatatype\u001b[0m \u001b[0;34m+\u001b[0m \u001b[0;34m'.bw'\u001b[0m\u001b[0;34m\u001b[0m\u001b[0;34m\u001b[0m\u001b[0m\n\u001b[1;32m      5\u001b[0m \u001b[0;34m\u001b[0m\u001b[0m\n\u001b[0;32m----> 6\u001b[0;31m     \u001b[0;32mif\u001b[0m \u001b[0mrun_acores\u001b[0m\u001b[0;34m:\u001b[0m\u001b[0;34m\u001b[0m\u001b[0;34m\u001b[0m\u001b[0m\n\u001b[0m\u001b[1;32m      7\u001b[0m         \u001b[0;31m#acores\u001b[0m\u001b[0;34m\u001b[0m\u001b[0;34m\u001b[0m\u001b[0;34m\u001b[0m\u001b[0m\n\u001b[1;32m      8\u001b[0m         \u001b[0mrefpoint_mRNA_name\u001b[0m \u001b[0;34m=\u001b[0m \u001b[0mfilename\u001b[0m\u001b[0;34m.\u001b[0m\u001b[0mreplace\u001b[0m\u001b[0;34m(\u001b[0m\u001b[0;34m'.bw'\u001b[0m\u001b[0;34m,\u001b[0m \u001b[0;34m'.'\u001b[0m \u001b[0;34m+\u001b[0m \u001b[0mstr\u001b[0m\u001b[0;34m(\u001b[0m\u001b[0macores\u001b[0m\u001b[0;34m)\u001b[0m \u001b[0;34m+\u001b[0m \u001b[0;34m'acores.mRNA.refpoint.gz'\u001b[0m\u001b[0;34m)\u001b[0m\u001b[0;34m.\u001b[0m\u001b[0mreplace\u001b[0m\u001b[0;34m(\u001b[0m\u001b[0;34m'*'\u001b[0m\u001b[0;34m,\u001b[0m \u001b[0;34m'all'\u001b[0m\u001b[0;34m)\u001b[0m\u001b[0;34m\u001b[0m\u001b[0;34m\u001b[0m\u001b[0m\n",
      "\u001b[0;31mNameError\u001b[0m: name 'run_acores' is not defined"
     ]
    }
   ],
   "source": [
    "datatype_array = ['occ', 'nucleoatac_signal', 'nucleoatac_signal.smooth']\n",
    "\n",
    "for datatype in datatype_array:\n",
    "    filename = 'S*AB_nucleoatac' + '.' + datatype + '.bw'\n",
    "    \n",
    "    if run_acores:\n",
    "        #acores\n",
    "        refpoint_mRNA_name = filename.replace('.bw', '.' + str(acores) + 'acores_' + suffix + '.mRNA.refpoint.gz').replace('*', 'all')\n",
    "        !echo '### computing mRNA refpoint matrix for '$filename\n",
    "        !computeMatrix reference-point -S $filename -R $acoresmRNAbed --outFileName $refpoint_mRNA_name -b 400 -a 800 --numberOfProcessors max --skipZeros --missingDataAsZero\n",
    "        \n",
    "        refpoint_mRNA_pdf = refpoint_mRNA_name.replace('.gz', '.pdf')\n",
    "        !echo '### drawing figure into '$refpoint_mRNA_pdf\n",
    "        !plotHeatmap --matrixFile $refpoint_mRNA_name --outFileName $refpoint_mRNA_pdf\n",
    "        \n",
    "        refpoint_peak_name = filename.replace('.bw', '.' + str(acores) + 'acores_' + suffix + '.peak.refpoint.gz').replace('*', 'all')\n",
    "        !echo '### computing peak refpoint matrix for '$filename\n",
    "        !computeMatrix reference-point --referencePoint=center -S $filename -R $acorespeakbed --outFileName $refpoint_peak_name -b 500 -a 500 --numberOfProcessors max --skipZeros --missingDataAsZero\n",
    "        \n",
    "        refpoint_peak_pdf = refpoint_peak_name.replace('.gz', '.pdf')\n",
    "        !echo '### drawing figure into '$refpoint_peak_pdf\n",
    "        !plotHeatmap --matrixFile $refpoint_peak_name --outFileName $refpoint_peak_pdf\n",
    "        \n",
    "        scaled_peak_name = filename.replace('.bw', '.' + str(acores) + 'acores_' + suffix + '.peak.scaled.gz').replace('*', 'all')\n",
    "        !echo '### computing peak scaled-regions matrix for '$filename\n",
    "        !computeMatrix scale-regions -S $filename -R $acorespeakbed --outFileName $scaled_peak_name -b 500 -a 500 --numberOfProcessors max --skipZeros --missingDataAsZero\n",
    "        \n",
    "        scaled_peak_pdf = scaled_peak_name.replace('.gz', '.pdf')\n",
    "        !echo '### drawing figure into '$scaled_peak_pdf\n",
    "        !plotHeatmap --matrixFile $scaled_peak_name --outFileName $scaled_peak_pdf\n",
    "\n",
    "!mv *acores*.pdf Mfuzz_acore_pdfs"
   ]
  },
  {
   "cell_type": "code",
   "execution_count": null,
   "metadata": {},
   "outputs": [],
   "source": []
  }
 ],
 "metadata": {
  "kernelspec": {
   "display_name": "Python 3",
   "language": "python",
   "name": "python3"
  },
  "language_info": {
   "codemirror_mode": {
    "name": "ipython",
    "version": 3
   },
   "file_extension": ".py",
   "mimetype": "text/x-python",
   "name": "python",
   "nbconvert_exporter": "python",
   "pygments_lexer": "ipython3",
   "version": "3.7.4"
  }
 },
 "nbformat": 4,
 "nbformat_minor": 2
}
