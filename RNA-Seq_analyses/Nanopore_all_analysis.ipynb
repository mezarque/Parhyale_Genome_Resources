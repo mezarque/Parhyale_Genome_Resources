{
 "cells": [
  {
   "cell_type": "code",
   "execution_count": 1,
   "metadata": {},
   "outputs": [],
   "source": [
    "#To convert this to a Python script, use:\n",
    "#jupyter nbconvert --to script Omni-ATAC_all-analysis.ipynb\n",
    "\n",
    "#To run on a SLURM scheduler or other shared computing system, you may need to load modules.\n",
    "#For Savio, utilize the script ATAC-Seq_phaw5.0.sh\n",
    "\n",
    "#To upload this to SLURM, along with other necessary files, use\n",
    "#scp Omni-ATAC_all-analysis.py Omni-ATAC_all-analysis.sh dasun@dtn.brc.berkeley.edu:/global/scratch/dasun/Omni-ATAC-Seq"
   ]
  },
  {
   "cell_type": "code",
   "execution_count": 2,
   "metadata": {},
   "outputs": [],
   "source": [
    "#Configuration of Python script\n",
    "import subprocess\n",
    "import os\n",
    "import os.path\n",
    "import fnmatch\n",
    "import pandas as pd\n",
    "import numpy as np\n",
    "import json"
   ]
  },
  {
   "cell_type": "markdown",
   "metadata": {},
   "source": [
    "## Read concatenation and adpater trimming per barcode \n",
    "\n",
    "This section of the script trims the Illumina adapters off the sequences."
   ]
  },
  {
   "cell_type": "code",
   "execution_count": null,
   "metadata": {},
   "outputs": [],
   "source": [
    "#############################################################\n",
    "### Fill in this information before running this section ####\n",
    "\n",
    "#Decide if you want to run this section\n",
    "run_read_concatenation = False\n",
    "run_read_merging = False\n",
    "run_NanoPlot = False\n",
    "\n",
    "outer_folder_list = ['run1_basecalled_barcodes/', 'run2_basecalled_barcodes/', 'run3_basecalled_barcodes/']\n",
    "inner_folder_list = ['barcode01/', 'barcode02/', 'barcode03/', 'barcode04/']\n",
    "barcode_list = ['barcode01', 'barcode02', 'barcode03', 'barcode04']\n",
    "\n",
    "#############################################################\n",
    "#############################################################\n",
    "\n",
    "#checks if you want to trim your reads\n",
    "if run_read_concatenation == True:\n",
    "    for folder in outer_folder_list:\n",
    "        for subfolder in inner_folder_list:\n",
    "            current = './' + folder + subfolder\n",
    "            current_fastq = current + '*.fastq'\n",
    "            output = './' + folder + subfolder.replace('/', '_qcat/')\n",
    "            !cat $current_fastq | qcat -b $output\n",
    "\n",
    "if run_read_merging == True:\n",
    "    #generate new folder list with qcat suffix\n",
    "    new_inner_folder_list = [i.replace('/', '_qcat/') for i in inner_folder_list]\n",
    "    \n",
    "    #create empty dict to put all files for given barcode in\n",
    "    barcode_dict = {barcode:[] for barcode in barcode_list}\n",
    "    \n",
    "    #iterate through everything\n",
    "    for folder in outer_folder_list:\n",
    "        for subfolder in new_inner_folder_list:\n",
    "            for barcode in barcode_list:\n",
    "                \n",
    "                #simulate file name\n",
    "                simulated_directory = folder + subfolder\n",
    "                simulated_file = simulated_directory + barcode + '.fastq'\n",
    "                print(simulated_file)\n",
    "                \n",
    "                #check if file exists\n",
    "                if os.path.exists(simulated_file):\n",
    "                    !printf 'Found file '$simulated_file' in '$simulated_directory'\\n'\n",
    "                    !printf 'Adding '$simulated_file' to dictionary \\n'\n",
    "                    barcode_dict[barcode] = barcode_dict[barcode] + [simulated_file]\n",
    "                    print(barcode_dict)\n",
    "                    with open('test.txt', 'a+') as test:\n",
    "                        test.write(json.dumps(barcode_dict))\n",
    "                        test.write(\" \\n\")\n",
    "    \n",
    "    for barcode in barcode_dict:\n",
    "        string = ' '.join(barcode_dict[barcode])\n",
    "        output = barcode + '_allruns.fastq'\n",
    "        !printf 'Joining all of '$barcode' files together into '$output' \\n'\n",
    "        !cat $string > $output\n",
    "\n",
    "if run_NanoPlot == True:\n",
    "    for barcode in barcode_list:\n",
    "        file = barcode + '_allruns.fastq'\n",
    "        folder = barcode + '_Nanoplot'\n",
    "        !NanoPlot --verbose --fastq $file -o $folder -p $barcode"
   ]
  },
  {
   "cell_type": "markdown",
   "metadata": {},
   "source": [
    "## Map reads and generate StringTie2 transcriptome \n",
    "\n",
    "This section of the script trims the Illumina adapters off the sequences."
   ]
  },
  {
   "cell_type": "code",
   "execution_count": null,
   "metadata": {},
   "outputs": [],
   "source": [
    "#############################################################\n",
    "### Fill in this information before running this section ####\n",
    "\n",
    "#Decide if you want to run this section\n",
    "run_minimap2 = False\n",
    "\n",
    "#############################################################\n",
    "#############################################################\n",
    "\n",
    "#checks if you want to trim your reads\n",
    "if run_minimap2 == True:\n",
    "    !minimap2 -ax splice phaw_5.0.fa allbarcodes_allruns.fastq > allbarcodes_allruns.sam\n"
   ]
  },
  {
   "cell_type": "markdown",
   "metadata": {},
   "source": [
    "## Generate error-corrected reads using Canu\n",
    "\n"
   ]
  },
  {
   "cell_type": "code",
   "execution_count": null,
   "metadata": {},
   "outputs": [],
   "source": [
    "#############################################################\n",
    "### Fill in this information before running this section ####\n",
    "\n",
    "#Decide if you want to run this section\n",
    "run_canu_correction = False\n",
    "run_canu_trimming = False\n",
    "run_canu_assembly = False\n",
    "\n",
    "#############################################################\n",
    "#############################################################\n",
    "\n",
    "#checks if you want to trim your reads\n",
    "if run_canu_correction == True:\n",
    "    !canu -correct -p ab_ar_corr -d allbarcodes_allruns_correction genomeSize=30k minReadLength=150 minOverlapLength=150 useGrid=False -nanopore-raw allbarcodes_allruns.fastq\n",
    "\n",
    "if run_canu_trimming == True:\n",
    "    !canu -trim -p ab_ar_trim -d allbarcodes_allruns_trim genomeSize=30k minReadLength=150 minOverlapLength=150 useGrid=False -nanopore -raw allbarcodes_allruns.fastq\n",
    "    \n",
    "if run_canu_assembly == True:\n",
    "    !canu -p ab_ar_asmb -d allbarcodes_allruns_assembly genomeSize=30k minReadLength=150 minOverlapLength=150 useGrid=False -nanopore-raw allbarcodes_allruns.fastq"
   ]
  },
  {
   "cell_type": "code",
   "execution_count": null,
   "metadata": {},
   "outputs": [],
   "source": [
    "#############################################################\n",
    "### Fill in this information before running this section ####\n",
    "\n",
    "#Decide if you want to run this section\n",
    "run_hisat2 = True\n",
    "run_clean_hisat = True\n",
    "run_stringtie2_mix = True\n",
    "\n",
    "genome_file = 'phaw_5.0.fa'\n",
    "index_base = genome_file.replace('.fa', '')\n",
    "\n",
    "#############################################################\n",
    "#############################################################\n",
    "\n",
    "if run_hisat2 == True:\n",
    "    r1 = 'S13A1_S84_R1_001_rd1_1_all_1.fq.gz_ext_all_reads.normalized_K25_C50_pctSD10000.fq'\n",
    "    r2 = 'S13A1_S84_R2_001_rd1_2_all_2.fq.gz_ext_all_reads.normalized_K25_C50_pctSD10000.fq'\n",
    "    Sfile = 'Phaw_RNA_hisat2.dta.sam'\n",
    "    !hisat2 --dta -x $index_base -1 $r1 -2 $r2 -S $Sfile\n",
    "\n",
    "if run_clean_hisat == True:\n",
    "    start_sam = 'Phaw_RNA_hisat2.dta.sam'\n",
    "    cleaned_bam = start_sam.replace('.sam', '.cleaned.bam')\n",
    "    !samtools view -b -F 4 $start_sam > $cleaned_bam\n",
    "    sorted_bam = cleaned_bam.replace('.cleaned.', '.sorted.')\n",
    "    sorted_pref = cleaned_bam.replace('.cleaned.bam', '')\n",
    "    !samtools sort -T $sorted_pref -o $sorted_bam $cleaned_bam\n",
    "    \n",
    "if run_stringtie2_mix == True:\n",
    "    hisat2 = 'Phaw_RNA_hisat2.dta.sorted.bam'\n",
    "    minimap2 = 'allbarcodes_allruns.sorted.bam'\n",
    "    output = 'Par-haw_Nanopore_stringtie2_mix.gtf'\n",
    "    !stringtie $hisat2 $minimap2 --mix -o $output"
   ]
  }
 ],
 "metadata": {
  "kernelspec": {
   "display_name": "Python 3",
   "language": "python",
   "name": "python3"
  },
  "language_info": {
   "codemirror_mode": {
    "name": "ipython",
    "version": 3
   },
   "file_extension": ".py",
   "mimetype": "text/x-python",
   "name": "python",
   "nbconvert_exporter": "python",
   "pygments_lexer": "ipython3",
   "version": "3.8.8"
  }
 },
 "nbformat": 4,
 "nbformat_minor": 4
}
