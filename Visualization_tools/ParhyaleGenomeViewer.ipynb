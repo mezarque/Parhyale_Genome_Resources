{
 "cells": [
  {
   "cell_type": "markdown",
   "id": "8643d737-db46-4ac5-b8ed-63390f0343b6",
   "metadata": {},
   "source": [
    "# ParhyaleGenomeViewer\n",
    "\n",
    "This Jupyter notebook enables the visualization of data and results from the Sun and Patel 2021 paper using IGV.\n",
    "To use this notebook, make sure you have the following Python packages installed:\n",
    "\n",
    "- igv (https://github.com/igvteam/igv-jupyter#igvjs-jupyter-extension)\n",
    "- uniprot (https://github.com/boscoh/uniprot)\n",
    "- matplotlib\n",
    "- pandas\n",
    "- seaborn"
   ]
  },
  {
   "cell_type": "code",
   "execution_count": 12,
   "id": "daeda585-b89b-4c51-868a-cf27939f250c",
   "metadata": {},
   "outputs": [],
   "source": [
    "# Change this cell above the line to contain the paths to directories for required data for IGV visualization.\n",
    "# Be sure to include a terminal \"/\" character at the end of each directory string.\n",
    "\n",
    "### The below folder should contain:\n",
    "# - the phaw_5.0.fa file\n",
    "# - the phaw_5.0.fa.fai file\n",
    "genome_loc = '~/Labwork/Bioinformatics/GenomeSequences/Phaw_5.0_Annotation/genome/'\n",
    "\n",
    "### The below folder should contain:\n",
    "# - reference .gff files for any gene annotations you'd like to load\n",
    "annotation_loc = '~/Labwork/Bioinformatics/Transcripts/'\n",
    "### The below list contains the filenames for .gffs you'd like to visualize by default\n",
    "### Be sure to sort your gff file and generate an index file for each reference annotation using igvtools.\n",
    "annotation_gffs = ['mikado.loci.sorted.gff']\n",
    "\n",
    "### The below folder should contain:\n",
    "# - all Genrich stage-specific peaks, downloaded from GEO\n",
    "# - all Genrich .bw files, downloaded from GEO\n",
    "OmniATAC_loc = ''\n",
    "\n",
    "### The below folder should contain:\n",
    "# - all NucleoATAC files, downloaded from GEO\n",
    "NucATAC_loc = ''\n",
    "\n",
    "### The below folder should contain:\n",
    "# - all HINT-ATAC files, downloaded from GEO\n",
    "HINT_ATAC_loc = ''\n",
    "\n",
    "################################################################\n",
    "############## No need to modify below this line ###############\n",
    "################################################################\n",
    "\n",
    "# Imports necessary packages\n",
    "import igv\n",
    "import matplotlib.pyplot as plt\n",
    "import pandas as pd\n",
    "import seaborn as sns\n",
    "import sys\n",
    "\n",
    "def toJupyterURL(loc):\n",
    "    localhostStart = 'http://localhost:8888/files'\n",
    "    return loc.replace('~', localhostStart)\n",
    "\n",
    "# Specifies reference object\n",
    "reference_object = {\n",
    "    \"id\": \"phaw_5.0\",\n",
    "    \"name\": \"Parhyale hawaiensis genome 5.0\",\n",
    "    \"fastaURL\": \"http://localhost:8888/files/Labwork/Bioinformatics/Omni-ATAC-Seq/OmniATAC_github/phaw_5.0.fa\",\n",
    "    \"indexURL\": \"http://localhost:8888/files/Labwork/Bioinformatics/Omni-ATAC-Seq/OmniATAC_github/phaw_5.0.fa.fai\"\n",
    "}\n",
    "\n",
    "annotation_objects = {}\n",
    "for gff in annotation_gffs:\n",
    "    annotation_objects[gff] = {\n",
    "        \"name\": gff,\n",
    "        \"url\": toJupyterURL(annotation_loc) + gff,\n",
    "        \"format\": \"gff\",\n",
    "        \"indexed\": True\n",
    "}"
   ]
  },
  {
   "cell_type": "code",
   "execution_count": null,
   "id": "6aed1b02-2fae-44fe-9666-b40bac799e16",
   "metadata": {},
   "outputs": [],
   "source": []
  },
  {
   "cell_type": "code",
   "execution_count": 13,
   "id": "5a528d9f-a8c8-4587-b56d-168a1a7f6a70",
   "metadata": {},
   "outputs": [
    {
     "data": {
      "text/plain": [
       "{'id': 'phaw_5.0',\n",
       " 'name': 'Parhyale hawaiensis genome 5.0',\n",
       " 'fastaURL': 'files/phaw_5.0.fa',\n",
       " 'indexURL': 'files/phaw_5.0.fa.fai'}"
      ]
     },
     "metadata": {},
     "output_type": "display_data"
    }
   ],
   "source": [
    "display(reference_object)"
   ]
  },
  {
   "cell_type": "markdown",
   "id": "647fd3cb-513a-4922-a469-9156fbee456c",
   "metadata": {},
   "source": [
    "# Visualize summary data"
   ]
  },
  {
   "cell_type": "code",
   "execution_count": 14,
   "id": "e1b852ab-0cd1-4db4-8d35-3eb7dc2edfae",
   "metadata": {},
   "outputs": [
    {
     "data": {
      "text/plain": [
       "{'id': 'phaw_5.0',\n",
       " 'name': 'Parhyale hawaiensis genome 5.0',\n",
       " 'fastaURL': 'files/phaw_5.0.fa',\n",
       " 'indexURL': 'files/phaw_5.0.fa.fai'}"
      ]
     },
     "metadata": {},
     "output_type": "display_data"
    },
    {
     "data": {
      "text/html": [
       "<div id=\"igv_2028591\"></div>"
      ],
      "text/plain": [
       "<IPython.core.display.HTML object>"
      ]
     },
     "metadata": {},
     "output_type": "display_data"
    }
   ],
   "source": [
    "#Choose the genomic region you'd like to visualize below.\n",
    "\n",
    "### Input the IGV address of the genomic region of interest:\n",
    "### IGV address format is: <contig>:<start>-<stop>\n",
    "igv_address = \"phaw_50.283823c:50,641,166-50,644,340\"\n",
    "\n",
    "display(reference_object)\n",
    "\n",
    "b = igv.Browser({\"reference\": reference_object})\n",
    "\n",
    "for obj in annotation_objects:\n",
    "    b.load_track(annotation_objects[obj])\n",
    "\n",
    "b.search(igv_address)\n",
    "b.show()"
   ]
  },
  {
   "cell_type": "markdown",
   "id": "6e21d901-c0e9-4334-a007-1521b4869dc0",
   "metadata": {},
   "source": [
    "# Visualize data for a specific developmental stage"
   ]
  },
  {
   "cell_type": "code",
   "execution_count": null,
   "id": "9321bb89-d231-488b-832f-d0f5d63e7602",
   "metadata": {},
   "outputs": [],
   "source": [
    "### Choose the developmental stage and genome region you'd like to visualize.\n",
    "\n",
    "# The IGV address format is:\n",
    "# <contig>:<start>-<stop>\n",
    "igv_address = 'phaw_50.283823c:50,641,166-50,644,340'\n",
    "\n",
    "### Set the following flags to \"True\" or \"False\" depending on whether or not you want to load the data.\n",
    "OmniATAC_bool_dict = {\n",
    "    load_Genrich_peaks = True\n",
    "    load_bigwig = True\n",
    "}"
   ]
  },
  {
   "cell_type": "code",
   "execution_count": 18,
   "id": "bc310896-d426-435f-b1fa-2b76701aad71",
   "metadata": {
    "scrolled": false
   },
   "outputs": [
    {
     "data": {
      "text/html": [
       "<div id=\"igv_9693630\"></div>"
      ],
      "text/plain": [
       "<IPython.core.display.HTML object>"
      ]
     },
     "metadata": {},
     "output_type": "display_data"
    }
   ],
   "source": [
    "b = igv.Browser({\"genome\": \"hg19\"})\n",
    "b.show()"
   ]
  },
  {
   "cell_type": "code",
   "execution_count": null,
   "id": "63eb5807-5eb7-4964-a8d6-b70374979675",
   "metadata": {},
   "outputs": [],
   "source": []
  }
 ],
 "metadata": {
  "kernelspec": {
   "display_name": "Python 3",
   "language": "python",
   "name": "python3"
  },
  "language_info": {
   "codemirror_mode": {
    "name": "ipython",
    "version": 3
   },
   "file_extension": ".py",
   "mimetype": "text/x-python",
   "name": "python",
   "nbconvert_exporter": "python",
   "pygments_lexer": "ipython3",
   "version": "3.8.8"
  }
 },
 "nbformat": 4,
 "nbformat_minor": 5
}
